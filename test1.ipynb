{
 "cells": [
  {
   "cell_type": "code",
   "execution_count": 1,
   "id": "7d4bddbe",
   "metadata": {},
   "outputs": [
    {
     "name": "stdout",
     "output_type": "stream",
     "text": [
      "11\n"
     ]
    }
   ],
   "source": [
    "print(5+6)\n"
   ]
  },
  {
   "cell_type": "code",
   "execution_count": 2,
   "id": "397b208a",
   "metadata": {},
   "outputs": [
    {
     "data": {
      "text/plain": [
       "'heyyyyy'"
      ]
     },
     "execution_count": 2,
     "metadata": {},
     "output_type": "execute_result"
    }
   ],
   "source": [
    "'heyyyyy'"
   ]
  },
  {
   "cell_type": "code",
   "execution_count": 4,
   "id": "67e2c661",
   "metadata": {},
   "outputs": [
    {
     "name": "stdout",
     "output_type": "stream",
     "text": [
      "end\n",
      "rre 1 2\n"
     ]
    }
   ],
   "source": [
    "print(\"end\")\n",
    "\n",
    "x='rre'\n",
    "y,z=1,2\n",
    "print(x,y,z)"
   ]
  },
  {
   "cell_type": "code",
   "execution_count": 9,
   "id": "2f7fcfe0",
   "metadata": {},
   "outputs": [
    {
     "name": "stdout",
     "output_type": "stream",
     "text": [
      "1000\n",
      "988\n"
     ]
    }
   ],
   "source": [
    "x= 988\n",
    "def func():\n",
    "    x=1000\n",
    "    print(x)\n",
    "func()\n",
    "print(x)\n"
   ]
  }
 ],
 "metadata": {
  "kernelspec": {
   "display_name": "Python 3",
   "language": "python",
   "name": "python3"
  },
  "language_info": {
   "codemirror_mode": {
    "name": "ipython",
    "version": 3
   },
   "file_extension": ".py",
   "mimetype": "text/x-python",
   "name": "python",
   "nbconvert_exporter": "python",
   "pygments_lexer": "ipython3",
   "version": "3.11.9"
  }
 },
 "nbformat": 4,
 "nbformat_minor": 5
}
