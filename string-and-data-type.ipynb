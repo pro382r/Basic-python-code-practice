{
  "nbformat": 4,
  "nbformat_minor": 0,
  "metadata": {
    "colab": {
      "provenance": []
    },
    "kernelspec": {
      "name": "python3",
      "display_name": "Python 3"
    },
    "language_info": {
      "name": "python"
    }
  },
  "cells": [
    {
      "cell_type": "code",
      "execution_count": null,
      "metadata": {
        "colab": {
          "base_uri": "https://localhost:8080/"
        },
        "id": "UBHH3mWXIX6_",
        "outputId": "ae8417b6-176b-4f10-99eb-dc08fb428b12"
      },
      "outputs": [
        {
          "output_type": "stream",
          "name": "stdout",
          "text": [
            "Hey\n",
            "1\n",
            "1\n",
            "<class 'str'>\n",
            "1\n",
            "<class 'int'>\n"
          ]
        }
      ],
      "source": [
        "\"\"\"python string practice\"\"\"\n",
        "\n",
        "print('Hey')\n",
        "d=input()\n",
        "\n",
        "print(d)\n",
        "print(type(d))#-------------------str\n",
        "\n",
        "c = int(d)\n",
        "print(c)\n",
        "print(type(c))#------------------int"
      ]
    },
    {
      "cell_type": "code",
      "source": [
        "x = int(input('Enter number= '))"
      ],
      "metadata": {
        "colab": {
          "base_uri": "https://localhost:8080/"
        },
        "id": "oBkATDOnPKgb",
        "outputId": "22e1b930-de97-4f53-fd0a-4e26aea2129c"
      },
      "execution_count": null,
      "outputs": [
        {
          "name": "stdout",
          "output_type": "stream",
          "text": [
            "Enter number= 5\n"
          ]
        }
      ]
    },
    {
      "cell_type": "code",
      "source": [
        "datasrting = 'my Name is Reahoon'\n",
        "datasrting.lower()\n"
      ],
      "metadata": {
        "colab": {
          "base_uri": "https://localhost:8080/",
          "height": 35
        },
        "id": "YARakGvvN_Zc",
        "outputId": "863697a0-0388-4a15-950f-c42b76b41129"
      },
      "execution_count": null,
      "outputs": [
        {
          "output_type": "execute_result",
          "data": {
            "text/plain": [
              "'my name is reahoon'"
            ],
            "application/vnd.google.colaboratory.intrinsic+json": {
              "type": "string"
            }
          },
          "metadata": {},
          "execution_count": 2
        }
      ]
    },
    {
      "cell_type": "code",
      "source": [
        "datasrting.upper()\n"
      ],
      "metadata": {
        "colab": {
          "base_uri": "https://localhost:8080/",
          "height": 35
        },
        "id": "d4auzbx7OcHt",
        "outputId": "1bd547d9-7ea3-49ca-c4de-f23afaf53b3f"
      },
      "execution_count": null,
      "outputs": [
        {
          "output_type": "execute_result",
          "data": {
            "text/plain": [
              "'MY NAME IS REAHOON'"
            ],
            "application/vnd.google.colaboratory.intrinsic+json": {
              "type": "string"
            }
          },
          "metadata": {},
          "execution_count": 3
        }
      ]
    },
    {
      "cell_type": "code",
      "source": [
        "datasrting.title()\n",
        "print(datasrting.title())\n",
        "print(datasrting.split())\n",
        "print(datasrting.center(88))\n",
        "print(datasrting.replace('Reahoon','ZannaH'))\n",
        "\n"
      ],
      "metadata": {
        "colab": {
          "base_uri": "https://localhost:8080/"
        },
        "id": "dBLzdp63OxGW",
        "outputId": "6a05b214-bd7c-4cb1-ab69-16869145a442"
      },
      "execution_count": null,
      "outputs": [
        {
          "output_type": "stream",
          "name": "stdout",
          "text": [
            "My Name Is Reahoon\n",
            "['my', 'Name', 'is', 'Reahoon']\n",
            "                                   my Name is Reahoon                                   \n",
            "my Name is ZannaH\n"
          ]
        }
      ]
    },
    {
      "cell_type": "code",
      "source": [
        "#list=[]\n",
        "ls = [2,6,'string data',True,[5,8]]\n",
        "\n",
        "#tuple=()\n",
        "tpl= (1,4,5,'Machine Learning')\n",
        "\n",
        "print(ls)\n",
        "print(tpl)"
      ],
      "metadata": {
        "colab": {
          "base_uri": "https://localhost:8080/"
        },
        "id": "ye848FFJVwea",
        "outputId": "5f952c1b-cb17-4ff2-963a-2aaa6a30d1b8"
      },
      "execution_count": 4,
      "outputs": [
        {
          "output_type": "stream",
          "name": "stdout",
          "text": [
            "[2, 6, 'string data', True, [5, 8]]\n",
            "(1, 4, 5, 'Machine Learning')\n"
          ]
        }
      ]
    },
    {
      "cell_type": "code",
      "source": [
        "tpl[0:2]"
      ],
      "metadata": {
        "colab": {
          "base_uri": "https://localhost:8080/"
        },
        "id": "mCSPgQlLXdXD",
        "outputId": "bbcfafc0-7993-4151-c228-471db0e61481"
      },
      "execution_count": 6,
      "outputs": [
        {
          "output_type": "execute_result",
          "data": {
            "text/plain": [
              "(1, 4)"
            ]
          },
          "metadata": {},
          "execution_count": 6
        }
      ]
    },
    {
      "cell_type": "code",
      "source": [
        "#range()\n",
        "\n",
        "ren1= range(10)\n",
        "for i in ren1:\n",
        "    print(i)\n",
        "print(\" \")\n",
        "ren2= range(5,12)\n",
        "for i in ren2:\n",
        "    print(i)\n",
        "print(\" \")\n",
        "ren3= range(10,20,2)\n",
        "for i in ren3:\n",
        "    print(i)\n"
      ],
      "metadata": {
        "colab": {
          "base_uri": "https://localhost:8080/"
        },
        "id": "zlwBu3yHYA2V",
        "outputId": "21db1175-e602-4f9e-cee0-9eece6c68027"
      },
      "execution_count": 11,
      "outputs": [
        {
          "output_type": "stream",
          "name": "stdout",
          "text": [
            "0\n",
            "1\n",
            "2\n",
            "3\n",
            "4\n",
            "5\n",
            "6\n",
            "7\n",
            "8\n",
            "9\n",
            " \n",
            "5\n",
            "6\n",
            "7\n",
            "8\n",
            "9\n",
            "10\n",
            "11\n",
            " \n",
            "10\n",
            "12\n",
            "14\n",
            "16\n",
            "18\n"
          ]
        }
      ]
    },
    {
      "cell_type": "code",
      "source": [
        "import array as ar\n",
        "\n",
        "a1=ar.array('i',[1,2,3,4,5])\n",
        "print(a1)"
      ],
      "metadata": {
        "colab": {
          "base_uri": "https://localhost:8080/"
        },
        "id": "V650RGSHZyOc",
        "outputId": "8f93b9a7-10fd-4f45-c52c-7da9356d494a"
      },
      "execution_count": 12,
      "outputs": [
        {
          "output_type": "stream",
          "name": "stdout",
          "text": [
            "array('i', [1, 2, 3, 4, 5])\n"
          ]
        }
      ]
    },
    {
      "cell_type": "code",
      "source": [
        "# Method 1: Curly braces {}\n",
        "my_dict1 = {\"name\": \"Alice\", \"age\": 30, \"city\": \"Paris\"}\n",
        "\n",
        "# Method 2: dict() constructor\n",
        "my_dict2 = dict(name=\"Bob\", age=25, city=\"London\")\n",
        "\n",
        "# Empty dictionary\n",
        "empty_dict = {}\n",
        "\n",
        "print(my_dict1)\n",
        "print(my_dict2)\n",
        "print(empty_dict)"
      ],
      "metadata": {
        "colab": {
          "base_uri": "https://localhost:8080/"
        },
        "id": "tTavxFTAb0ok",
        "outputId": "d93d0658-9331-4cfd-a8c9-57d81527490a"
      },
      "execution_count": 13,
      "outputs": [
        {
          "output_type": "stream",
          "name": "stdout",
          "text": [
            "{'name': 'Alice', 'age': 30, 'city': 'Paris'}\n",
            "{'name': 'Bob', 'age': 25, 'city': 'London'}\n",
            "{}\n"
          ]
        }
      ]
    }
{
 "cells": [
  {
   "cell_type": "code",
   "execution_count": null,
   "metadata": {
    "id": "tTavxFTAbook"
   },
   "outputs": [],
   "source": [
    "x91 = 99\n",
    "x92 = 2\n",
    "\n",
    "print(x91 & x92)"
   ]
  }
 ],
 "metadata": {
  "colab": {
   "base_uri": "https://localhost:8080/"
  },
  "id": "tTavxFTAbook",
  "outputId": "d9308658-9331-4cfd-a8c9-57081527490a"
 },
 "nbformat": 4,
 "nbformat_minor": 0
}
  ]
}
